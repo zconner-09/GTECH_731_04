{
 "cells": [
  {
   "cell_type": "code",
   "execution_count": null,
   "metadata": {},
   "outputs": [],
   "source": [
    "########################################################\n",
    "# Zack Conner\n",
    "# 9/29/2019\n",
    "# Homework Assignment 4\n",
    "#\n",
    "# The first function will calculate the area of a polygon given a list of \n",
    "# coordinates.\n",
    "# The second function calculates the distance between coordinates, \n",
    "# thus calculating the perimeter.\n",
    "#\n",
    "# Input: A list of coordinates. Can be parsed from CSV or JSON file.\n",
    "#\n",
    "# Process: \n",
    "#    Read your coordinates into a list\n",
    "#    Split the coordinates into an 'x' list and 'y' list\n",
    "#    Call the functions on the two lists and compute the ratio of area/perim\n",
    "########################################################"
   ]
  },
  {
   "cell_type": "code",
   "execution_count": 45,
   "metadata": {},
   "outputs": [],
   "source": [
    "import matplotlib.pyplot as plt\n",
    "import json\n",
    "import math\n",
    "from math import sqrt\n",
    "%matplotlib inline "
   ]
  },
  {
   "cell_type": "code",
   "execution_count": 5,
   "metadata": {},
   "outputs": [
    {
     "data": {
      "text/plain": [
       "<function matplotlib.pyplot.show(*args, **kw)>"
      ]
     },
     "execution_count": 5,
     "metadata": {},
     "output_type": "execute_result"
    },
    {
     "data": {
      "image/png": "[encoded data removed]",
      "text/plain": [
       "<Figure size 432x288 with 1 Axes>"
      ]
     },
     "metadata": {
      "needs_background": "light"
     },
     "output_type": "display_data"
    }
   ],
   "source": [
    "hunter = [[-73.9647886005, 40.7688851885],\n",
    "       [-73.9650157033, 40.7689819501],\n",
    "       [-73.9650184354, 40.7689782441],\n",
    "       [-73.9650213292, 40.7689743159],\n",
    "       [-73.9653661315, 40.76850654],\n",
    "       [-73.9649258014, 40.7683189287],\n",
    "       [-73.9646573254, 40.7682045378],\n",
    "       [-73.9645379546, 40.7683664806],\n",
    "       [-73.9645235831, 40.7683603575],\n",
    "       [-73.9643626448, 40.7682917853],\n",
    "       [-73.9643028419, 40.7682663046],\n",
    "       [-73.9642879598, 40.7682599637],\n",
    "       [-73.9642506343, 40.7683105994],\n",
    "       [-73.9642290334, 40.7683013958],\n",
    "       [-73.9641932217, 40.7683499796],\n",
    "       [-73.964215678, 40.7683595472],\n",
    "       [-73.9641711061, 40.7684200137],\n",
    "       [-73.9641956432, 40.7684304678],\n",
    "       [-73.9640822889, 40.7685842451],\n",
    "       [-73.9644731395, 40.7687507785],\n",
    "       [-73.9647886005, 40.7688851885]]\n",
    "\n",
    "for x in hunter:\n",
    "    x = [p[0] for p in hunter]\n",
    "    y = [p[1] for p in hunter]\n",
    "    \n",
    "\n",
    "plt.plot(x, y)\n",
    "plt.show"
   ]
  },
  {
   "cell_type": "code",
   "execution_count": 46,
   "metadata": {},
   "outputs": [],
   "source": [
    "xcoords = []\n",
    "ycoords = []\n",
    "for i,p in enumerate(hunter):\n",
    "    xcoords.append((p[0]))\n",
    "    ycoords.append((p[1]))"
   ]
  },
  {
   "cell_type": "code",
   "execution_count": 48,
   "metadata": {},
   "outputs": [],
   "source": [
    "def PolygonArea(corners):\n",
    "    n = len(corners) # of corners\n",
    "    area = 0.0\n",
    "    for i in range(n):\n",
    "        j = (i + 1) % n\n",
    "        area += corners[i][0] * corners[j][1]\n",
    "        area -= corners[j][0] * corners[i][1]\n",
    "    area = abs(area) / 2.0\n",
    "    return area\n",
    "\n",
    "def avg_distance(x,y):\n",
    "    n = len(x)\n",
    "    dist = 0\n",
    "    for i in range(n):\n",
    "        xi = x[i]\n",
    "        yi = y[i]\n",
    "        for j in range(i+1,n):\n",
    "            dx = x[j]-xi\n",
    "            dy = y[j]-yi\n",
    "            dist += sqrt(dx*dx+dy*dy)\n",
    "    return sum(2.0*dist/(n*(n-1)))"
   ]
  },
  {
   "cell_type": "code",
   "execution_count": 49,
   "metadata": {},
   "outputs": [
    {
     "name": "stdout",
     "output_type": "stream",
     "text": [
      "1013.6537381448645\n"
     ]
    }
   ],
   "source": [
    "ratio = (avg_distance(xcoords, ycoords))/PolygonArea(hunter)\n",
    "print(ratio)"
   ]
  }
 ],
 "metadata": {
  "kernelspec": {
   "display_name": "Python 3",
   "language": "python",
   "name": "python3"
  },
  "language_info": {
   "codemirror_mode": {
    "name": "ipython",
    "version": 3
   },
   "file_extension": ".py",
   "mimetype": "text/x-python",
   "name": "python",
   "nbconvert_exporter": "python",
   "pygments_lexer": "ipython3",
   "version": "3.7.0"
  }
 },
 "nbformat": 4,
 "nbformat_minor": 2
}
